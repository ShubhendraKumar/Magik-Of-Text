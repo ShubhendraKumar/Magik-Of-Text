{
 "cells": [
  {
   "cell_type": "markdown",
   "metadata": {},
   "source": [
    "# PART  -  3/3(FINAL) FOR RF :-"
   ]
  },
  {
   "cell_type": "code",
   "execution_count": 1,
   "metadata": {
    "collapsed": true
   },
   "outputs": [],
   "source": [
    "#importing libraries\n",
    "\n",
    "from selenium import webdriver\n",
    "from bs4 import BeautifulSoup\n",
    "import chromedriver_binary\n",
    "import re\n",
    "import pandas as pd\n",
    "import numpy as np\n",
    "import matplotlib.pyplot as plt\n",
    "import seaborn as sns\n",
    "from string import punctuation\n",
    "from time import sleep\n",
    "from nltk import word_tokenize\n",
    "from nltk.corpus import stopwords\n",
    "% matplotlib inline"
   ]
  },
  {
   "cell_type": "code",
   "execution_count": 2,
   "metadata": {},
   "outputs": [
    {
     "data": {
      "text/plain": [
       "Index(['CIK', 'CONAME', 'FYRMO', 'FDATE', 'FORM', 'SECFNAME',\n",
       "       'mda_positive_score', 'mda_negative_score', 'mda_polarity_score',\n",
       "       'mda_average_sentence_length', 'mda_percentage_of_complex_words',\n",
       "       'mda_fog_index', 'mda_complex_word_count', 'mda_word_count',\n",
       "       'mda_uncertainty_score', 'mda_constraining_score',\n",
       "       'mda_positive_word_proportion', 'mda_negative_word_proportion',\n",
       "       'mda_uncertainty_word_proportion', 'mda_constraining_word_proportion',\n",
       "       'qqdmr_positive_score', 'qqdmr_negative_score', 'qqdmr_polarity_score',\n",
       "       'qqdmr_average_sentence_length', 'qqdmr_percentage_of_complex_words',\n",
       "       'qqdmr_fog_index', 'qqdmr_complex_word_count', 'qqdmr_word_count',\n",
       "       'qqdmr_uncertainty_score', 'qqdmr_constraining_score',\n",
       "       'qqdmr_positive_word_proportion', 'qqdmr_negative_word_proportion',\n",
       "       'qqdmr_uncertainty_word_proportion',\n",
       "       'qqdmr_constraining_word_proportion', 'rf_positive_score',\n",
       "       'rf_negative_score', 'rf_polarity_score', 'rf_average_sentence_length',\n",
       "       'rf_percentage_of_complex_words', 'rf_fog_index',\n",
       "       'rf_complex_word_count', 'rf_word_count', 'rf_uncertainty_score',\n",
       "       'rf_constraining_score', 'rf_positive_word_proportion',\n",
       "       'rf_negative_word_proportion', 'rf_uncertainty_word_proportion',\n",
       "       'rf_constraining_word_proportion', 'constraining_words_whole_report'],\n",
       "      dtype='object')"
      ]
     },
     "execution_count": 2,
     "metadata": {},
     "output_type": "execute_result"
    }
   ],
   "source": [
    "df_rf = pd.read_csv(r'result_for_mda_and_qqdmr.csv')\n",
    "df_rf.columns"
   ]
  },
  {
   "cell_type": "code",
   "execution_count": 3,
   "metadata": {},
   "outputs": [
    {
     "data": {
      "text/html": [
       "<div>\n",
       "<style scoped>\n",
       "    .dataframe tbody tr th:only-of-type {\n",
       "        vertical-align: middle;\n",
       "    }\n",
       "\n",
       "    .dataframe tbody tr th {\n",
       "        vertical-align: top;\n",
       "    }\n",
       "\n",
       "    .dataframe thead th {\n",
       "        text-align: right;\n",
       "    }\n",
       "</style>\n",
       "<table border=\"1\" class=\"dataframe\">\n",
       "  <thead>\n",
       "    <tr style=\"text-align: right;\">\n",
       "      <th></th>\n",
       "      <th>CIK</th>\n",
       "      <th>CONAME</th>\n",
       "      <th>FYRMO</th>\n",
       "      <th>FDATE</th>\n",
       "      <th>FORM</th>\n",
       "      <th>SECFNAME</th>\n",
       "      <th>mda_positive_score</th>\n",
       "      <th>mda_negative_score</th>\n",
       "      <th>mda_polarity_score</th>\n",
       "      <th>mda_average_sentence_length</th>\n",
       "      <th>...</th>\n",
       "      <th>rf_fog_index</th>\n",
       "      <th>rf_complex_word_count</th>\n",
       "      <th>rf_word_count</th>\n",
       "      <th>rf_uncertainty_score</th>\n",
       "      <th>rf_constraining_score</th>\n",
       "      <th>rf_positive_word_proportion</th>\n",
       "      <th>rf_negative_word_proportion</th>\n",
       "      <th>rf_uncertainty_word_proportion</th>\n",
       "      <th>rf_constraining_word_proportion</th>\n",
       "      <th>constraining_words_whole_report</th>\n",
       "    </tr>\n",
       "  </thead>\n",
       "  <tbody>\n",
       "    <tr>\n",
       "      <th>0</th>\n",
       "      <td>3662</td>\n",
       "      <td>SUNBEAM CORP/FL/</td>\n",
       "      <td>199803</td>\n",
       "      <td>06-03-98</td>\n",
       "      <td>10-K405</td>\n",
       "      <td>https://www.sec.gov/Archives/edgar/data/3662/0...</td>\n",
       "      <td>5.0</td>\n",
       "      <td>15.0</td>\n",
       "      <td>-0.500000</td>\n",
       "      <td>13.750000</td>\n",
       "      <td>...</td>\n",
       "      <td>NaN</td>\n",
       "      <td>NaN</td>\n",
       "      <td>NaN</td>\n",
       "      <td>NaN</td>\n",
       "      <td>NaN</td>\n",
       "      <td>NaN</td>\n",
       "      <td>NaN</td>\n",
       "      <td>NaN</td>\n",
       "      <td>NaN</td>\n",
       "      <td>1487.0</td>\n",
       "    </tr>\n",
       "    <tr>\n",
       "      <th>1</th>\n",
       "      <td>3662</td>\n",
       "      <td>SUNBEAM CORP/FL/</td>\n",
       "      <td>199805</td>\n",
       "      <td>15-05-98</td>\n",
       "      <td>10-Q</td>\n",
       "      <td>https://www.sec.gov/Archives/edgar/data/3662/0...</td>\n",
       "      <td>3.0</td>\n",
       "      <td>26.0</td>\n",
       "      <td>-0.793103</td>\n",
       "      <td>12.323529</td>\n",
       "      <td>...</td>\n",
       "      <td>NaN</td>\n",
       "      <td>NaN</td>\n",
       "      <td>NaN</td>\n",
       "      <td>NaN</td>\n",
       "      <td>NaN</td>\n",
       "      <td>NaN</td>\n",
       "      <td>NaN</td>\n",
       "      <td>NaN</td>\n",
       "      <td>NaN</td>\n",
       "      <td>1044.0</td>\n",
       "    </tr>\n",
       "    <tr>\n",
       "      <th>2</th>\n",
       "      <td>3662</td>\n",
       "      <td>SUNBEAM CORP/FL/</td>\n",
       "      <td>199808</td>\n",
       "      <td>13-08-98</td>\n",
       "      <td>NT 10-Q</td>\n",
       "      <td>https://www.sec.gov/Archives/edgar/data/3662/0...</td>\n",
       "      <td>NaN</td>\n",
       "      <td>NaN</td>\n",
       "      <td>NaN</td>\n",
       "      <td>NaN</td>\n",
       "      <td>...</td>\n",
       "      <td>NaN</td>\n",
       "      <td>NaN</td>\n",
       "      <td>NaN</td>\n",
       "      <td>NaN</td>\n",
       "      <td>NaN</td>\n",
       "      <td>NaN</td>\n",
       "      <td>NaN</td>\n",
       "      <td>NaN</td>\n",
       "      <td>NaN</td>\n",
       "      <td>5.0</td>\n",
       "    </tr>\n",
       "  </tbody>\n",
       "</table>\n",
       "<p>3 rows × 49 columns</p>\n",
       "</div>"
      ],
      "text/plain": [
       "    CIK            CONAME   FYRMO     FDATE     FORM  \\\n",
       "0  3662  SUNBEAM CORP/FL/  199803  06-03-98  10-K405   \n",
       "1  3662  SUNBEAM CORP/FL/  199805  15-05-98     10-Q   \n",
       "2  3662  SUNBEAM CORP/FL/  199808  13-08-98  NT 10-Q   \n",
       "\n",
       "                                            SECFNAME  mda_positive_score  \\\n",
       "0  https://www.sec.gov/Archives/edgar/data/3662/0...                 5.0   \n",
       "1  https://www.sec.gov/Archives/edgar/data/3662/0...                 3.0   \n",
       "2  https://www.sec.gov/Archives/edgar/data/3662/0...                 NaN   \n",
       "\n",
       "   mda_negative_score  mda_polarity_score  mda_average_sentence_length  \\\n",
       "0                15.0           -0.500000                    13.750000   \n",
       "1                26.0           -0.793103                    12.323529   \n",
       "2                 NaN                 NaN                          NaN   \n",
       "\n",
       "                ...                 rf_fog_index  rf_complex_word_count  \\\n",
       "0               ...                          NaN                    NaN   \n",
       "1               ...                          NaN                    NaN   \n",
       "2               ...                          NaN                    NaN   \n",
       "\n",
       "   rf_word_count  rf_uncertainty_score  rf_constraining_score  \\\n",
       "0            NaN                   NaN                    NaN   \n",
       "1            NaN                   NaN                    NaN   \n",
       "2            NaN                   NaN                    NaN   \n",
       "\n",
       "   rf_positive_word_proportion  rf_negative_word_proportion  \\\n",
       "0                          NaN                          NaN   \n",
       "1                          NaN                          NaN   \n",
       "2                          NaN                          NaN   \n",
       "\n",
       "   rf_uncertainty_word_proportion  rf_constraining_word_proportion  \\\n",
       "0                             NaN                              NaN   \n",
       "1                             NaN                              NaN   \n",
       "2                             NaN                              NaN   \n",
       "\n",
       "   constraining_words_whole_report  \n",
       "0                           1487.0  \n",
       "1                           1044.0  \n",
       "2                              5.0  \n",
       "\n",
       "[3 rows x 49 columns]"
      ]
     },
     "execution_count": 3,
     "metadata": {},
     "output_type": "execute_result"
    }
   ],
   "source": [
    "df_rf.head(3)"
   ]
  },
  {
   "cell_type": "code",
   "execution_count": 4,
   "metadata": {},
   "outputs": [
    {
     "data": {
      "text/plain": [
       "<matplotlib.axes._subplots.AxesSubplot at 0x67e5dcab00>"
      ]
     },
     "execution_count": 4,
     "metadata": {},
     "output_type": "execute_result"
    },
    {
     "data": {
      "image/png": "[encoded data removed]",
      "text/plain": [
       "<matplotlib.figure.Figure at 0x67e5cc4e48>"
      ]
     },
     "metadata": {},
     "output_type": "display_data"
    }
   ],
   "source": [
    "plt.figure(figsize=(20,7))\n",
    "sns.heatmap(df_rf.isnull(), cmap='viridis')"
   ]
  },
  {
   "cell_type": "markdown",
   "metadata": {},
   "source": [
    "### calculate the rf_positive_score :"
   ]
  },
  {
   "cell_type": "code",
   "execution_count": 5,
   "metadata": {
    "collapsed": true
   },
   "outputs": [],
   "source": [
    "def rf_positive_score_fn(super_final_content_extract_rf_list_with_stopwords_removed, positive_words):\n",
    "    no_of_postive_words = 0\n",
    "    for i in range(0, len(super_final_content_extract_rf_list_with_stopwords_removed)):\n",
    "        if super_final_content_extract_rf_list_with_stopwords_removed[i] in positive_words:\n",
    "            no_of_postive_words += 1\n",
    "    return no_of_postive_words"
   ]
  },
  {
   "cell_type": "markdown",
   "metadata": {},
   "source": [
    "### calculate the rf_negative_score :"
   ]
  },
  {
   "cell_type": "code",
   "execution_count": 6,
   "metadata": {
    "collapsed": true
   },
   "outputs": [],
   "source": [
    "def rf_negative_score_fn(super_final_content_extract_rf_list_with_stopwords_removed, negative_words):\n",
    "    no_of_negative_words = 0\n",
    "    for i in range(0, len(super_final_content_extract_rf_list_with_stopwords_removed)):\n",
    "        if super_final_content_extract_rf_list_with_stopwords_removed[i] in negative_words:\n",
    "            no_of_negative_words += 1\n",
    "    return no_of_negative_words"
   ]
  },
  {
   "cell_type": "markdown",
   "metadata": {},
   "source": [
    "### calculate the rf_polarity_score :"
   ]
  },
  {
   "cell_type": "code",
   "execution_count": 7,
   "metadata": {
    "collapsed": true
   },
   "outputs": [],
   "source": [
    "def rf_polarity_score_fn(super_final_content_extract_rf_list_with_stopwords_removed, rf_positive_score, rf_negative_score):\n",
    "    num = (rf_positive_score - rf_negative_score)\n",
    "    den = ((rf_positive_score + rf_negative_score) + 0.000001)\n",
    "    rf_polarity_score = num/den\n",
    "    return rf_polarity_score"
   ]
  },
  {
   "cell_type": "markdown",
   "metadata": {},
   "source": [
    "### calculate the rf_average_sentence_length :"
   ]
  },
  {
   "cell_type": "code",
   "execution_count": 8,
   "metadata": {
    "collapsed": true
   },
   "outputs": [],
   "source": [
    "def rf_average_sentence_length_fn(no_of_sentences, super_final_content_extract_rf_list_with_stopwords_removed):\n",
    "    return (len(super_final_content_extract_rf_list_with_stopwords_removed)/no_of_sentences)\n",
    "    "
   ]
  },
  {
   "cell_type": "markdown",
   "metadata": {},
   "source": [
    "### calculate the rf_uncertainity_score :"
   ]
  },
  {
   "cell_type": "code",
   "execution_count": 9,
   "metadata": {
    "collapsed": true
   },
   "outputs": [],
   "source": [
    "def rf_uncertainty_score_fn(super_final_content_extract_rf_list_with_stopwords_removed):\n",
    "    no_of_uncertain_words = 0\n",
    "    for i in range(0, len(super_final_content_extract_rf_list_with_stopwords_removed)):\n",
    "        if super_final_content_extract_rf_list_with_stopwords_removed[i] in uncertain_words:\n",
    "            no_of_uncertain_words += 1\n",
    "            \n",
    "    return (no_of_uncertain_words)"
   ]
  },
  {
   "cell_type": "markdown",
   "metadata": {},
   "source": [
    "### calculate the rf_constraining_score :"
   ]
  },
  {
   "cell_type": "code",
   "execution_count": 10,
   "metadata": {
    "collapsed": true
   },
   "outputs": [],
   "source": [
    "def rf_constraining_score_fn(super_final_content_extract_rf_list_with_stopwords_removed):\n",
    "    no_of_constrain_words = 0\n",
    "    for i in range(0, len(super_final_content_extract_rf_list_with_stopwords_removed)):\n",
    "        if super_final_content_extract_rf_list_with_stopwords_removed[i] in constrain_words:\n",
    "            no_of_constrain_words += 1\n",
    "            \n",
    "    return (no_of_constrain_words)"
   ]
  },
  {
   "cell_type": "markdown",
   "metadata": {},
   "source": [
    "### calculate the rf_complex_word_count :"
   ]
  },
  {
   "cell_type": "code",
   "execution_count": 11,
   "metadata": {
    "collapsed": true
   },
   "outputs": [],
   "source": [
    "def rf_complex_word_count_fn(super_final_content_extract_rf_list_with_stopwords_removed):\n",
    "    vowels = ['a','e','i','o','u']\n",
    "\n",
    "    complex_word_count = 0\n",
    "    for i in range(0, len(super_final_content_extract_rf_list_with_stopwords_removed)):\n",
    "        count_syllable = 0\n",
    "        current_word = super_final_content_extract_rf_list_with_stopwords_removed[i]\n",
    "        for letter in current_word:\n",
    "            if letter in vowels:\n",
    "                count_syllable += 1\n",
    "            if count_syllable > 2:\n",
    "#                 print(word,\" is complex word\")\n",
    "                complex_word_count += 1\n",
    "                break\n",
    "        \n",
    "    return complex_word_count\n",
    "\n",
    "#     print(\"complex word count is \", complex_word_count)"
   ]
  },
  {
   "cell_type": "markdown",
   "metadata": {},
   "source": [
    "### Importing the uncertainity words list :"
   ]
  },
  {
   "cell_type": "code",
   "execution_count": 12,
   "metadata": {},
   "outputs": [
    {
     "data": {
      "text/html": [
       "<div>\n",
       "<style scoped>\n",
       "    .dataframe tbody tr th:only-of-type {\n",
       "        vertical-align: middle;\n",
       "    }\n",
       "\n",
       "    .dataframe tbody tr th {\n",
       "        vertical-align: top;\n",
       "    }\n",
       "\n",
       "    .dataframe thead th {\n",
       "        text-align: right;\n",
       "    }\n",
       "</style>\n",
       "<table border=\"1\" class=\"dataframe\">\n",
       "  <thead>\n",
       "    <tr style=\"text-align: right;\">\n",
       "      <th></th>\n",
       "      <th>Word</th>\n",
       "    </tr>\n",
       "  </thead>\n",
       "  <tbody>\n",
       "    <tr>\n",
       "      <th>0</th>\n",
       "      <td>ABEYANCE</td>\n",
       "    </tr>\n",
       "    <tr>\n",
       "      <th>1</th>\n",
       "      <td>ABEYANCES</td>\n",
       "    </tr>\n",
       "    <tr>\n",
       "      <th>2</th>\n",
       "      <td>ALMOST</td>\n",
       "    </tr>\n",
       "    <tr>\n",
       "      <th>3</th>\n",
       "      <td>ALTERATION</td>\n",
       "    </tr>\n",
       "    <tr>\n",
       "      <th>4</th>\n",
       "      <td>ALTERATIONS</td>\n",
       "    </tr>\n",
       "  </tbody>\n",
       "</table>\n",
       "</div>"
      ],
      "text/plain": [
       "          Word\n",
       "0     ABEYANCE\n",
       "1    ABEYANCES\n",
       "2       ALMOST\n",
       "3   ALTERATION\n",
       "4  ALTERATIONS"
      ]
     },
     "execution_count": 12,
     "metadata": {},
     "output_type": "execute_result"
    }
   ],
   "source": [
    "uncertain = pd.read_csv(r'uncertainty_dictionary.csv')\n",
    "uncertain.head()"
   ]
  },
  {
   "cell_type": "code",
   "execution_count": 13,
   "metadata": {
    "collapsed": true
   },
   "outputs": [],
   "source": [
    "uncertain['Word'].dropna(axis='rows',inplace=True)"
   ]
  },
  {
   "cell_type": "code",
   "execution_count": 14,
   "metadata": {},
   "outputs": [
    {
     "data": {
      "text/plain": [
       "297"
      ]
     },
     "execution_count": 14,
     "metadata": {},
     "output_type": "execute_result"
    }
   ],
   "source": [
    "len(uncertain['Word'])"
   ]
  },
  {
   "cell_type": "code",
   "execution_count": 15,
   "metadata": {
    "collapsed": true
   },
   "outputs": [],
   "source": [
    "uncertain_words = list(uncertain['Word'])\n",
    "for i in range(0, len(uncertain_words)):\n",
    "    uncertain_words[i] = uncertain_words[i].lower()"
   ]
  },
  {
   "cell_type": "markdown",
   "metadata": {},
   "source": [
    "### Importing the constraining words list :"
   ]
  },
  {
   "cell_type": "code",
   "execution_count": 16,
   "metadata": {},
   "outputs": [
    {
     "data": {
      "text/html": [
       "<div>\n",
       "<style scoped>\n",
       "    .dataframe tbody tr th:only-of-type {\n",
       "        vertical-align: middle;\n",
       "    }\n",
       "\n",
       "    .dataframe tbody tr th {\n",
       "        vertical-align: top;\n",
       "    }\n",
       "\n",
       "    .dataframe thead th {\n",
       "        text-align: right;\n",
       "    }\n",
       "</style>\n",
       "<table border=\"1\" class=\"dataframe\">\n",
       "  <thead>\n",
       "    <tr style=\"text-align: right;\">\n",
       "      <th></th>\n",
       "      <th>Word</th>\n",
       "    </tr>\n",
       "  </thead>\n",
       "  <tbody>\n",
       "    <tr>\n",
       "      <th>0</th>\n",
       "      <td>ABIDE</td>\n",
       "    </tr>\n",
       "    <tr>\n",
       "      <th>1</th>\n",
       "      <td>ABIDING</td>\n",
       "    </tr>\n",
       "    <tr>\n",
       "      <th>2</th>\n",
       "      <td>BOUND</td>\n",
       "    </tr>\n",
       "    <tr>\n",
       "      <th>3</th>\n",
       "      <td>BOUNDED</td>\n",
       "    </tr>\n",
       "    <tr>\n",
       "      <th>4</th>\n",
       "      <td>COMMIT</td>\n",
       "    </tr>\n",
       "  </tbody>\n",
       "</table>\n",
       "</div>"
      ],
      "text/plain": [
       "      Word\n",
       "0    ABIDE\n",
       "1  ABIDING\n",
       "2    BOUND\n",
       "3  BOUNDED\n",
       "4   COMMIT"
      ]
     },
     "execution_count": 16,
     "metadata": {},
     "output_type": "execute_result"
    }
   ],
   "source": [
    "constrain = pd.read_csv(r'constraining_dictionary.csv')\n",
    "constrain.head()"
   ]
  },
  {
   "cell_type": "code",
   "execution_count": 17,
   "metadata": {
    "collapsed": true
   },
   "outputs": [],
   "source": [
    "constrain['Word'].dropna(axis='rows',inplace=True)"
   ]
  },
  {
   "cell_type": "code",
   "execution_count": 18,
   "metadata": {},
   "outputs": [
    {
     "data": {
      "text/plain": [
       "184"
      ]
     },
     "execution_count": 18,
     "metadata": {},
     "output_type": "execute_result"
    }
   ],
   "source": [
    "len(constrain['Word'])"
   ]
  },
  {
   "cell_type": "code",
   "execution_count": 19,
   "metadata": {
    "collapsed": true
   },
   "outputs": [],
   "source": [
    "constrain_words = list(constrain['Word'])\n",
    "for i in range(0, len(constrain_words)):\n",
    "    constrain_words[i] = constrain_words[i].lower()"
   ]
  },
  {
   "cell_type": "markdown",
   "metadata": {},
   "source": [
    "### Importing the +ve/-ve words csv file and making a list out of that :"
   ]
  },
  {
   "cell_type": "code",
   "execution_count": 20,
   "metadata": {
    "collapsed": true
   },
   "outputs": [],
   "source": [
    "pos_neg = pd.read_csv(r'positive_negative_words.csv')"
   ]
  },
  {
   "cell_type": "code",
   "execution_count": 21,
   "metadata": {
    "collapsed": true
   },
   "outputs": [],
   "source": [
    "pos_neg['positive'].dropna(axis='rows',inplace=True)"
   ]
  },
  {
   "cell_type": "code",
   "execution_count": 22,
   "metadata": {},
   "outputs": [
    {
     "data": {
      "text/plain": [
       "354"
      ]
     },
     "execution_count": 22,
     "metadata": {},
     "output_type": "execute_result"
    }
   ],
   "source": [
    "len(pos_neg['positive'])"
   ]
  },
  {
   "cell_type": "code",
   "execution_count": 23,
   "metadata": {
    "collapsed": true
   },
   "outputs": [],
   "source": [
    "pos_neg['negative'].dropna(axis='rows',inplace=True)"
   ]
  },
  {
   "cell_type": "code",
   "execution_count": 24,
   "metadata": {},
   "outputs": [
    {
     "data": {
      "text/plain": [
       "2348"
      ]
     },
     "execution_count": 24,
     "metadata": {},
     "output_type": "execute_result"
    }
   ],
   "source": [
    "len(pos_neg['negative'])"
   ]
  },
  {
   "cell_type": "code",
   "execution_count": 25,
   "metadata": {
    "collapsed": true
   },
   "outputs": [],
   "source": [
    "positive_words = list(pos_neg['positive'].astype('str'))\n",
    "negative_words = list(pos_neg['negative'].astype('str'))"
   ]
  },
  {
   "cell_type": "code",
   "execution_count": 26,
   "metadata": {
    "collapsed": true
   },
   "outputs": [],
   "source": [
    "for i in range(0, len(positive_words)):\n",
    "    positive_words[i] = positive_words[i].lower()"
   ]
  },
  {
   "cell_type": "code",
   "execution_count": 27,
   "metadata": {
    "collapsed": true
   },
   "outputs": [],
   "source": [
    "for i in range(0, len(negative_words)):\n",
    "    negative_words[i] = negative_words[i].lower()"
   ]
  },
  {
   "cell_type": "markdown",
   "metadata": {},
   "source": [
    "### Function to tokenize list and remove stop words :"
   ]
  },
  {
   "cell_type": "code",
   "execution_count": 28,
   "metadata": {
    "collapsed": true
   },
   "outputs": [],
   "source": [
    "def nltk_tokenizing(super_final_content_extract_rf):\n",
    "    # complete calculations\n",
    "    \n",
    "    from nltk import word_tokenize\n",
    "    from nltk.corpus import stopwords\n",
    "    \n",
    "    stopwords_list = set(stopwords.words('english'))\n",
    "    super_final_content_extract_rf_list = super_final_content_extract_rf.split()\n",
    "   \n",
    "    # converting to lower case each element of the list\n",
    "    \n",
    "    for i in range(0, len(super_final_content_extract_rf_list)):\n",
    "        super_final_content_extract_rf_list[i] = super_final_content_extract_rf_list[i].lower() \n",
    "    \n",
    "    super_final_content_extract_rf_list_with_stopwords_removed = []    \n",
    "    \n",
    "    # creating a new list with the stopwords removed from our original data list :\n",
    "    \n",
    "    for j in range(0, len(super_final_content_extract_rf_list)):\n",
    "        if super_final_content_extract_rf_list[j] in stopwords_list:\n",
    "            continue\n",
    "        else:\n",
    "            super_final_content_extract_rf_list_with_stopwords_removed.append(super_final_content_extract_rf_list[j])\n",
    "    \n",
    "    return super_final_content_extract_rf_list_with_stopwords_removed\n",
    "\n",
    "    # returning the list with stop words removed, punctuation already removed and each letternow lowercase\n",
    "    "
   ]
  },
  {
   "cell_type": "markdown",
   "metadata": {},
   "source": [
    "### Function to calculate no of sentences :"
   ]
  },
  {
   "cell_type": "code",
   "execution_count": 29,
   "metadata": {
    "collapsed": true
   },
   "outputs": [],
   "source": [
    "def calculate_no_of_sentences(final_content_extract_rf):\n",
    "    dots = re.findall(r'\\w\\.\\s{0,1}\\w{1,1}', str(final_content_extract_rf))\n",
    "    return (len(dots) + 1) "
   ]
  },
  {
   "cell_type": "markdown",
   "metadata": {},
   "source": [
    "### Function to remove punctuation :"
   ]
  },
  {
   "cell_type": "code",
   "execution_count": 30,
   "metadata": {
    "collapsed": true
   },
   "outputs": [],
   "source": [
    "# from string import punctuation\n",
    "def strip_punctuation(final_content_extract_rf):\n",
    "    return ''.join(c for c in final_content_extract_rf if c not in punctuation)"
   ]
  },
  {
   "cell_type": "markdown",
   "metadata": {},
   "source": [
    "## MAIN COMPUTATIONAL CELL :"
   ]
  },
  {
   "cell_type": "code",
   "execution_count": 31,
   "metadata": {},
   "outputs": [
    {
     "name": "stderr",
     "output_type": "stream",
     "text": [
      "C:\\anaconda5\\lib\\site-packages\\ipykernel_launcher.py:3: DeprecationWarning: \n",
      ".ix is deprecated. Please use\n",
      ".loc for label based indexing or\n",
      ".iloc for positional indexing\n",
      "\n",
      "See the documentation here:\n",
      "http://pandas.pydata.org/pandas-docs/stable/indexing.html#ix-indexer-is-deprecated\n",
      "  This is separate from the ipykernel package so we can avoid doing imports until\n"
     ]
    },
    {
     "name": "stdout",
     "output_type": "stream",
     "text": [
      "https://www.sec.gov/Archives/edgar/data/3662/0000950170-98-000413.txt\n",
      "False for  0  URL \n",
      "https://www.sec.gov/Archives/edgar/data/3662/0000950170-98-001001.txt\n",
      "False for  1  URL \n",
      "https://www.sec.gov/Archives/edgar/data/3662/0000950172-98-000783.txt\n",
      "False for  2  URL \n",
      "https://www.sec.gov/Archives/edgar/data/3662/0000950170-98-002145.txt\n",
      "False for  3  URL \n",
      "https://www.sec.gov/Archives/edgar/data/3662/0000950172-98-001203.txt\n",
      "False for  4  URL \n",
      "https://www.sec.gov/Archives/edgar/data/3662/0000950170-98-002278.txt\n",
      "False for  5  URL \n",
      "https://www.sec.gov/Archives/edgar/data/3662/0000950170-98-002401.txt\n",
      "False for  6  URL \n",
      "https://www.sec.gov/Archives/edgar/data/3662/0000950170-98-002402.txt\n",
      "False for  7  URL \n",
      "https://www.sec.gov/Archives/edgar/data/3662/0000950172-99-000362.txt\n",
      "False for  8  URL \n",
      "https://www.sec.gov/Archives/edgar/data/3662/0000950170-99-000775.txt\n",
      "False for  9  URL \n",
      "https://www.sec.gov/Archives/edgar/data/3662/0000950172-99-000584.txt\n",
      "False for  10  URL \n",
      "https://www.sec.gov/Archives/edgar/data/3662/0000950170-99-001005.txt\n",
      "False for  11  URL \n",
      "https://www.sec.gov/Archives/edgar/data/3662/0000950172-99-001074.txt\n",
      "False for  12  URL \n",
      "https://www.sec.gov/Archives/edgar/data/3662/0000950170-99-001361.txt\n",
      "False for  13  URL \n",
      "https://www.sec.gov/Archives/edgar/data/3662/0000889812-99-003241.txt\n",
      "False for  14  URL \n",
      "https://www.sec.gov/Archives/edgar/data/3662/0000950170-99-001639.txt\n",
      "False for  15  URL \n",
      "https://www.sec.gov/Archives/edgar/data/3662/0000950170-99-001640.txt\n",
      "False for  16  URL \n",
      "https://www.sec.gov/Archives/edgar/data/3662/0000950172-99-001626.txt\n",
      "False for  17  URL \n",
      "https://www.sec.gov/Archives/edgar/data/3662/0000950170-99-001856.txt\n",
      "False for  18  URL \n",
      "https://www.sec.gov/Archives/edgar/data/3982/0000950129-06-002926.txt\n",
      "True for  19  URL \n",
      "https://www.sec.gov/Archives/edgar/data/3982/0000950129-06-004690.txt\n",
      "False for  20  URL \n",
      "https://www.sec.gov/Archives/edgar/data/3982/0000950129-06-005244.txt\n",
      "True for  21  URL \n",
      "https://www.sec.gov/Archives/edgar/data/3982/0000950129-06-007243.txt\n",
      "False for  22  URL \n",
      "https://www.sec.gov/Archives/edgar/data/3982/0000950129-06-007244.txt\n",
      "True for  23  URL \n",
      "https://www.sec.gov/Archives/edgar/data/3982/0000950129-06-007871.txt\n",
      "True for  24  URL \n",
      "https://www.sec.gov/Archives/edgar/data/3982/0000950129-06-009522.txt\n",
      "True for  25  URL \n",
      "https://www.sec.gov/Archives/edgar/data/3982/0000950134-06-023819.txt\n",
      "False for  26  URL \n",
      "https://www.sec.gov/Archives/edgar/data/3982/0000950129-07-001381.txt\n",
      "True for  27  URL \n",
      "https://www.sec.gov/Archives/edgar/data/3982/0000950129-07-002432.txt\n",
      "True for  28  URL \n",
      "https://www.sec.gov/Archives/edgar/data/3982/0000950129-07-003918.txt\n",
      "True for  29  URL \n",
      "https://www.sec.gov/Archives/edgar/data/3982/0000950129-07-005361.txt\n",
      "True for  30  URL \n",
      "https://www.sec.gov/Archives/edgar/data/3982/0000950129-08-001569.txt\n",
      "True for  31  URL \n",
      "https://www.sec.gov/Archives/edgar/data/3982/0000950129-08-002507.txt\n",
      "False for  32  URL \n",
      "https://www.sec.gov/Archives/edgar/data/4447/0000950123-03-012528.txt\n",
      "False for  33  URL \n",
      "https://www.sec.gov/Archives/edgar/data/4447/0000950123-04-003250.txt\n",
      "False for  34  URL \n",
      "https://www.sec.gov/Archives/edgar/data/4447/0000950123-04-003322.txt\n",
      "False for  35  URL \n",
      "https://www.sec.gov/Archives/edgar/data/4447/0000950123-04-005950.txt\n",
      "False for  36  URL \n",
      "https://www.sec.gov/Archives/edgar/data/4447/0000950123-04-009350.txt\n",
      "False for  37  URL \n",
      "https://www.sec.gov/Archives/edgar/data/4447/0000950123-04-013054.txt\n",
      "False for  38  URL \n",
      "https://www.sec.gov/Archives/edgar/data/4447/0000950123-05-003078.txt\n",
      "False for  39  URL \n",
      "https://www.sec.gov/Archives/edgar/data/4447/0000950123-05-005767.txt\n",
      "False for  40  URL \n",
      "https://www.sec.gov/Archives/edgar/data/4447/0000950123-05-009475.txt\n",
      "False for  41  URL \n",
      "https://www.sec.gov/Archives/edgar/data/4447/0000950123-05-013153.txt\n",
      "False for  42  URL \n",
      "https://www.sec.gov/Archives/edgar/data/4457/0000004457-99-000043.txt\n",
      "False for  43  URL \n",
      "https://www.sec.gov/Archives/edgar/data/4457/0000004457-00-000018.txt\n",
      "False for  44  URL \n",
      "https://www.sec.gov/Archives/edgar/data/4457/0000004457-00-000067.txt\n",
      "False for  45  URL \n",
      "https://www.sec.gov/Archives/edgar/data/4457/0000004457-00-000080.txt\n",
      "False for  46  URL \n",
      "https://www.sec.gov/Archives/edgar/data/4457/0000004457-00-000105.txt\n",
      "False for  47  URL \n",
      "https://www.sec.gov/Archives/edgar/data/4457/0000004457-01-500024.txt\n",
      "False for  48  URL \n",
      "https://www.sec.gov/Archives/edgar/data/4457/0000004457-01-500063.txt\n",
      "False for  49  URL \n",
      "https://www.sec.gov/Archives/edgar/data/4457/0000004457-01-500060.txt\n",
      "False for  50  URL \n",
      "https://www.sec.gov/Archives/edgar/data/4457/0000004457-01-500081.txt\n",
      "False for  51  URL \n",
      "https://www.sec.gov/Archives/edgar/data/4457/0000004457-01-500083.txt\n",
      "False for  52  URL \n",
      "https://www.sec.gov/Archives/edgar/data/4515/0000004515-08-000073.txt\n",
      "True for  53  URL \n",
      "no of sentences 2\n",
      "length of super final 16\n",
      "rf_positive_score  0\n",
      "rf_negative_score  0\n",
      "rf_polarity_score  0.0\n",
      "rf_average_sentence_length  8.0\n",
      "rf_word_count 16\n",
      "rf_complex_word_count  6\n",
      "rf_percentage_of_complex_words,  0.375\n",
      "rf_fog_index  3.35\n",
      "rf_uncertainty_score  0\n",
      "rf_constraining_score  0\n",
      "rf_positive_word_proportion  0.0\n",
      "rf_negative_word_proportion 0.0\n",
      "rf_uncertainty_word_proportion  0.0\n",
      "rf_constraining_word_proportion 0.0\n",
      "\n",
      "https://www.sec.gov/Archives/edgar/data/4515/0000004515-09-000008.txt\n",
      "True for  54  URL \n",
      "no of sentences 1\n",
      "length of super final 16\n",
      "rf_positive_score  0\n",
      "rf_negative_score  1\n",
      "rf_polarity_score  -0.9999990000010001\n",
      "rf_average_sentence_length  16.0\n",
      "rf_word_count 16\n",
      "rf_complex_word_count  7\n",
      "rf_percentage_of_complex_words,  0.4375\n",
      "rf_fog_index  6.575\n",
      "rf_uncertainty_score  0\n",
      "rf_constraining_score  0\n",
      "rf_positive_word_proportion  0.0\n",
      "rf_negative_word_proportion 0.0625\n",
      "rf_uncertainty_word_proportion  0.0\n",
      "rf_constraining_word_proportion 0.0\n",
      "\n",
      "https://www.sec.gov/Archives/edgar/data/4515/0000004515-09-000018.txt\n",
      "True for  55  URL \n",
      "no of sentences 1\n",
      "length of super final 15\n",
      "rf_positive_score  0\n",
      "rf_negative_score  1\n",
      "rf_polarity_score  -0.9999990000010001\n",
      "rf_average_sentence_length  15.0\n",
      "rf_word_count 15\n",
      "rf_complex_word_count  8\n",
      "rf_percentage_of_complex_words,  0.5333333333333333\n",
      "rf_fog_index  6.213333333333334\n",
      "rf_uncertainty_score  0\n",
      "rf_constraining_score  0\n",
      "rf_positive_word_proportion  0.0\n",
      "rf_negative_word_proportion 0.06666666666666667\n",
      "rf_uncertainty_word_proportion  0.0\n",
      "rf_constraining_word_proportion 0.0\n",
      "\n",
      "https://www.sec.gov/Archives/edgar/data/4515/0000004515-09-000029.txt\n",
      "True for  56  URL \n",
      "no of sentences 1\n",
      "length of super final 20\n",
      "rf_positive_score  0\n",
      "rf_negative_score  0\n",
      "rf_polarity_score  0.0\n",
      "rf_average_sentence_length  20.0\n",
      "rf_word_count 20\n",
      "rf_complex_word_count  7\n",
      "rf_percentage_of_complex_words,  0.35\n",
      "rf_fog_index  8.14\n",
      "rf_uncertainty_score  0\n",
      "rf_constraining_score  0\n",
      "rf_positive_word_proportion  0.0\n",
      "rf_negative_word_proportion 0.0\n",
      "rf_uncertainty_word_proportion  0.0\n",
      "rf_constraining_word_proportion 0.0\n",
      "\n",
      "https://www.sec.gov/Archives/edgar/data/4515/0000004515-09-000039.txt\n",
      "True for  57  URL \n",
      "no of sentences 1\n",
      "length of super final 19\n",
      "rf_positive_score  0\n",
      "rf_negative_score  0\n",
      "rf_polarity_score  0.0\n",
      "rf_average_sentence_length  19.0\n",
      "rf_word_count 19\n",
      "rf_complex_word_count  8\n",
      "rf_percentage_of_complex_words,  0.42105263157894735\n",
      "rf_fog_index  7.76842105263158\n",
      "rf_uncertainty_score  0\n",
      "rf_constraining_score  0\n",
      "rf_positive_word_proportion  0.0\n",
      "rf_negative_word_proportion 0.0\n",
      "rf_uncertainty_word_proportion  0.0\n",
      "rf_constraining_word_proportion 0.0\n",
      "\n",
      "https://www.sec.gov/Archives/edgar/data/4515/0000004515-09-000041.txt\n",
      "False for  58  URL \n",
      "https://www.sec.gov/Archives/edgar/data/4515/0000004515-10-000006.txt\n",
      "True for  59  URL \n",
      "no of sentences 1\n",
      "length of super final 18\n",
      "rf_positive_score  1\n",
      "rf_negative_score  0\n",
      "rf_polarity_score  0.9999990000010001\n",
      "rf_average_sentence_length  18.0\n",
      "rf_word_count 18\n",
      "rf_complex_word_count  11\n",
      "rf_percentage_of_complex_words,  0.6111111111111112\n",
      "rf_fog_index  7.444444444444445\n",
      "rf_uncertainty_score  0\n",
      "rf_constraining_score  0\n",
      "rf_positive_word_proportion  0.05555555555555555\n",
      "rf_negative_word_proportion 0.0\n",
      "rf_uncertainty_word_proportion  0.0\n",
      "rf_constraining_word_proportion 0.0\n",
      "\n",
      "https://www.sec.gov/Archives/edgar/data/4515/0000004515-10-000016.txt\n",
      "True for  60  URL \n",
      "no of sentences 1\n",
      "length of super final 15\n",
      "rf_positive_score  0\n",
      "rf_negative_score  1\n",
      "rf_polarity_score  -0.9999990000010001\n",
      "rf_average_sentence_length  15.0\n",
      "rf_word_count 15\n",
      "rf_complex_word_count  8\n",
      "rf_percentage_of_complex_words,  0.5333333333333333\n",
      "rf_fog_index  6.213333333333334\n",
      "rf_uncertainty_score  0\n",
      "rf_constraining_score  0\n",
      "rf_positive_word_proportion  0.0\n",
      "rf_negative_word_proportion 0.06666666666666667\n",
      "rf_uncertainty_word_proportion  0.0\n",
      "rf_constraining_word_proportion 0.0\n",
      "\n"
     ]
    },
    {
     "name": "stdout",
     "output_type": "stream",
     "text": [
      "https://www.sec.gov/Archives/edgar/data/4515/0000950123-10-066865.txt\n",
      "True for  61  URL \n",
      "no of sentences 2\n",
      "length of super final 16\n",
      "rf_positive_score  0\n",
      "rf_negative_score  1\n",
      "rf_polarity_score  -0.9999990000010001\n",
      "rf_average_sentence_length  8.0\n",
      "rf_word_count 16\n",
      "rf_complex_word_count  8\n",
      "rf_percentage_of_complex_words,  0.5\n",
      "rf_fog_index  3.4000000000000004\n",
      "rf_uncertainty_score  0\n",
      "rf_constraining_score  0\n",
      "rf_positive_word_proportion  0.0\n",
      "rf_negative_word_proportion 0.0625\n",
      "rf_uncertainty_word_proportion  0.0\n",
      "rf_constraining_word_proportion 0.0\n",
      "\n",
      "https://www.sec.gov/Archives/edgar/data/4515/0000950123-10-094615.txt\n",
      "True for  62  URL \n",
      "no of sentences 2\n",
      "length of super final 16\n",
      "rf_positive_score  0\n",
      "rf_negative_score  1\n",
      "rf_polarity_score  -0.9999990000010001\n",
      "rf_average_sentence_length  8.0\n",
      "rf_word_count 16\n",
      "rf_complex_word_count  7\n",
      "rf_percentage_of_complex_words,  0.4375\n",
      "rf_fog_index  3.375\n",
      "rf_uncertainty_score  0\n",
      "rf_constraining_score  0\n",
      "rf_positive_word_proportion  0.0\n",
      "rf_negative_word_proportion 0.0625\n",
      "rf_uncertainty_word_proportion  0.0\n",
      "rf_constraining_word_proportion 0.0\n",
      "\n",
      "https://www.sec.gov/Archives/edgar/data/4962/0001193125-14-167067.txt\n",
      "True for  63  URL \n",
      "https://www.sec.gov/Archives/edgar/data/4962/0001193125-14-286961.txt\n",
      "True for  64  URL \n",
      "https://www.sec.gov/Archives/edgar/data/5588/0000930661-96-001510.txt\n",
      "False for  65  URL \n",
      "https://www.sec.gov/Archives/edgar/data/5588/0000950134-97-002428.txt\n",
      "False for  66  URL \n",
      "https://www.sec.gov/Archives/edgar/data/5588/0000950134-97-003934.txt\n",
      "False for  67  URL \n",
      "https://www.sec.gov/Archives/edgar/data/5588/0000950134-97-006223.txt\n",
      "False for  68  URL \n",
      "https://www.sec.gov/Archives/edgar/data/5588/0000950134-97-008577.txt\n",
      "False for  69  URL \n",
      "https://www.sec.gov/Archives/edgar/data/5588/0000950134-98-002477.txt\n",
      "False for  70  URL \n",
      "https://www.sec.gov/Archives/edgar/data/5588/0000950134-98-004241.txt\n",
      "False for  71  URL \n",
      "https://www.sec.gov/Archives/edgar/data/5588/0000950134-98-006988.txt\n",
      "False for  72  URL \n",
      "https://www.sec.gov/Archives/edgar/data/5588/0000005588-98-000008.txt\n",
      "False for  73  URL \n",
      "https://www.sec.gov/Archives/edgar/data/5588/0000005588-98-000010.txt\n",
      "False for  74  URL \n",
      "https://www.sec.gov/Archives/edgar/data/5907/0000005907-99-000027.txt\n",
      "False for  75  URL \n",
      "https://www.sec.gov/Archives/edgar/data/5907/0000005907-99-000037.txt\n",
      "False for  76  URL \n",
      "https://www.sec.gov/Archives/edgar/data/5907/0000005907-00-000014.txt\n",
      "False for  77  URL \n",
      "https://www.sec.gov/Archives/edgar/data/5907/0000005907-00-000025.txt\n",
      "False for  78  URL \n",
      "https://www.sec.gov/Archives/edgar/data/5907/0000005907-00-000031.txt\n",
      "False for  79  URL \n",
      "https://www.sec.gov/Archives/edgar/data/5907/0000005907-00-000038.txt\n",
      "False for  80  URL \n",
      "https://www.sec.gov/Archives/edgar/data/5907/0000005907-01-000002.txt\n",
      "False for  81  URL \n",
      "https://www.sec.gov/Archives/edgar/data/5907/0000005907-01-000012.txt\n",
      "True for  82  URL \n",
      "https://www.sec.gov/Archives/edgar/data/5907/0000005907-01-000015.txt\n",
      "True for  83  URL \n",
      "https://www.sec.gov/Archives/edgar/data/5907/0000950123-01-502538.txt\n",
      "False for  84  URL \n",
      "https://www.sec.gov/Archives/edgar/data/5907/0000950123-01-504075.txt\n",
      "False for  85  URL \n",
      "https://www.sec.gov/Archives/edgar/data/5907/0000950123-01-505366.txt\n",
      "False for  86  URL \n",
      "https://www.sec.gov/Archives/edgar/data/5907/0000950123-01-505598.txt\n",
      "False for  87  URL \n",
      "https://www.sec.gov/Archives/edgar/data/6071/0000006071-98-000023.txt\n",
      "False for  88  URL \n",
      "https://www.sec.gov/Archives/edgar/data/6071/0000006071-98-000026.txt\n",
      "False for  89  URL \n",
      "https://www.sec.gov/Archives/edgar/data/6071/0000889812-99-001116.txt\n",
      "False for  90  URL \n",
      "https://www.sec.gov/Archives/edgar/data/6071/0000006071-99-000013.txt\n",
      "False for  91  URL \n",
      "https://www.sec.gov/Archives/edgar/data/6071/0000006071-99-000015.txt\n",
      "False for  92  URL \n",
      "https://www.sec.gov/Archives/edgar/data/6071/0000006071-99-000017.txt\n",
      "False for  93  URL \n",
      "https://www.sec.gov/Archives/edgar/data/6071/0000006071-00-000002.txt\n",
      "False for  94  URL \n",
      "https://www.sec.gov/Archives/edgar/data/6071/0000006071-00-000011.txt\n",
      "False for  95  URL \n",
      "https://www.sec.gov/Archives/edgar/data/6201/0000006201-99-000023.txt\n",
      "False for  96  URL \n",
      "https://www.sec.gov/Archives/edgar/data/6201/0000006201-99-000028.txt\n",
      "False for  97  URL \n",
      "https://www.sec.gov/Archives/edgar/data/6201/0000950134-00-002454.txt\n",
      "False for  98  URL \n",
      "https://www.sec.gov/Archives/edgar/data/6201/0000006201-00-000009.txt\n",
      "False for  99  URL \n",
      "https://www.sec.gov/Archives/edgar/data/6201/0000950134-00-006067.txt\n",
      "False for  100  URL \n",
      "https://www.sec.gov/Archives/edgar/data/6201/0000006201-00-000017.txt\n",
      "False for  101  URL \n",
      "https://www.sec.gov/Archives/edgar/data/6201/0000950134-01-002483.txt\n",
      "False for  102  URL \n",
      "https://www.sec.gov/Archives/edgar/data/6201/0000950134-01-500665.txt\n",
      "False for  103  URL \n",
      "https://www.sec.gov/Archives/edgar/data/6201/0000006201-01-500032.txt\n",
      "False for  104  URL \n",
      "https://www.sec.gov/Archives/edgar/data/6201/0000006201-01-500047.txt\n",
      "False for  105  URL \n",
      "https://www.sec.gov/Archives/edgar/data/6201/0000950134-02-001661.txt\n",
      "False for  106  URL \n",
      "https://www.sec.gov/Archives/edgar/data/6201/0000006201-02-000015.txt\n",
      "False for  107  URL \n",
      "https://www.sec.gov/Archives/edgar/data/6201/0000006201-02-000035.txt\n",
      "False for  108  URL \n",
      "https://www.sec.gov/Archives/edgar/data/6201/0000006201-02-000052.txt\n",
      "True for  109  URL \n",
      "https://www.sec.gov/Archives/edgar/data/6201/0000950134-02-012680.txt\n",
      "False for  110  URL \n",
      "https://www.sec.gov/Archives/edgar/data/6201/0000950134-02-012682.txt\n",
      "False for  111  URL \n",
      "https://www.sec.gov/Archives/edgar/data/6201/0000006201-03-000012.txt\n",
      "False for  112  URL \n",
      "https://www.sec.gov/Archives/edgar/data/6201/0001047469-03-013301.txt\n",
      "True for  113  URL \n",
      "https://www.sec.gov/Archives/edgar/data/6201/0000006201-03-000030.txt\n",
      "False for  114  URL \n",
      "https://www.sec.gov/Archives/edgar/data/6201/0000006201-03-000045.txt\n",
      "True for  115  URL \n",
      "https://www.sec.gov/Archives/edgar/data/6201/0000006201-08-000060.txt\n",
      "True for  116  URL \n",
      "no of sentences 1\n",
      "length of super final 17\n",
      "rf_positive_score  0\n",
      "rf_negative_score  0\n",
      "rf_polarity_score  0.0\n",
      "rf_average_sentence_length  17.0\n",
      "rf_word_count 17\n",
      "rf_complex_word_count  5\n",
      "rf_percentage_of_complex_words,  0.29411764705882354\n",
      "rf_fog_index  6.91764705882353\n",
      "rf_uncertainty_score  0\n",
      "rf_constraining_score  0\n",
      "rf_positive_word_proportion  0.0\n",
      "rf_negative_word_proportion 0.0\n",
      "rf_uncertainty_word_proportion  0.0\n",
      "rf_constraining_word_proportion 0.0\n",
      "\n",
      "https://www.sec.gov/Archives/edgar/data/6201/0000006201-09-000009.txt\n",
      "True for  117  URL \n",
      "no of sentences 1\n",
      "length of super final 16\n",
      "rf_positive_score  0\n",
      "rf_negative_score  1\n",
      "rf_polarity_score  -0.9999990000010001\n",
      "rf_average_sentence_length  16.0\n",
      "rf_word_count 16\n",
      "rf_complex_word_count  7\n",
      "rf_percentage_of_complex_words,  0.4375\n",
      "rf_fog_index  6.575\n",
      "rf_uncertainty_score  0\n",
      "rf_constraining_score  0\n",
      "rf_positive_word_proportion  0.0\n",
      "rf_negative_word_proportion 0.0625\n",
      "rf_uncertainty_word_proportion  0.0\n",
      "rf_constraining_word_proportion 0.0\n",
      "\n",
      "https://www.sec.gov/Archives/edgar/data/6201/0000006201-09-000016.txt\n",
      "True for  118  URL \n",
      "no of sentences 1\n",
      "length of super final 15\n",
      "rf_positive_score  0\n",
      "rf_negative_score  1\n",
      "rf_polarity_score  -0.9999990000010001\n",
      "rf_average_sentence_length  15.0\n",
      "rf_word_count 15\n",
      "rf_complex_word_count  8\n",
      "rf_percentage_of_complex_words,  0.5333333333333333\n",
      "rf_fog_index  6.213333333333334\n",
      "rf_uncertainty_score  0\n",
      "rf_constraining_score  0\n",
      "rf_positive_word_proportion  0.0\n",
      "rf_negative_word_proportion 0.06666666666666667\n",
      "rf_uncertainty_word_proportion  0.0\n",
      "rf_constraining_word_proportion 0.0\n",
      "\n",
      "https://www.sec.gov/Archives/edgar/data/6201/0000006201-09-000029.txt\n",
      "True for  119  URL \n",
      "no of sentences 1\n",
      "length of super final 20\n",
      "rf_positive_score  0\n",
      "rf_negative_score  0\n",
      "rf_polarity_score  0.0\n",
      "rf_average_sentence_length  20.0\n",
      "rf_word_count 20\n",
      "rf_complex_word_count  7\n",
      "rf_percentage_of_complex_words,  0.35\n",
      "rf_fog_index  8.14\n",
      "rf_uncertainty_score  0\n",
      "rf_constraining_score  0\n",
      "rf_positive_word_proportion  0.0\n",
      "rf_negative_word_proportion 0.0\n",
      "rf_uncertainty_word_proportion  0.0\n",
      "rf_constraining_word_proportion 0.0\n",
      "\n",
      "https://www.sec.gov/Archives/edgar/data/6201/0000006201-09-000038.txt\n",
      "True for  120  URL \n",
      "no of sentences 1\n",
      "length of super final 15\n",
      "rf_positive_score  0\n",
      "rf_negative_score  0\n",
      "rf_polarity_score  0.0\n",
      "rf_average_sentence_length  15.0\n",
      "rf_word_count 15\n",
      "rf_complex_word_count  7\n",
      "rf_percentage_of_complex_words,  0.4666666666666667\n",
      "rf_fog_index  6.186666666666667\n",
      "rf_uncertainty_score  0\n",
      "rf_constraining_score  0\n",
      "rf_positive_word_proportion  0.0\n",
      "rf_negative_word_proportion 0.0\n",
      "rf_uncertainty_word_proportion  0.0\n",
      "rf_constraining_word_proportion 0.0\n",
      "\n"
     ]
    },
    {
     "name": "stdout",
     "output_type": "stream",
     "text": [
      "https://www.sec.gov/Archives/edgar/data/6201/0000006201-09-000040.txt\n",
      "False for  121  URL \n",
      "https://www.sec.gov/Archives/edgar/data/6201/0000006201-10-000006.txt\n",
      "True for  122  URL \n",
      "no of sentences 1\n",
      "length of super final 18\n",
      "rf_positive_score  1\n",
      "rf_negative_score  0\n",
      "rf_polarity_score  0.9999990000010001\n",
      "rf_average_sentence_length  18.0\n",
      "rf_word_count 18\n",
      "rf_complex_word_count  11\n",
      "rf_percentage_of_complex_words,  0.6111111111111112\n",
      "rf_fog_index  7.444444444444445\n",
      "rf_uncertainty_score  0\n",
      "rf_constraining_score  0\n",
      "rf_positive_word_proportion  0.05555555555555555\n",
      "rf_negative_word_proportion 0.0\n",
      "rf_uncertainty_word_proportion  0.0\n",
      "rf_constraining_word_proportion 0.0\n",
      "\n",
      "https://www.sec.gov/Archives/edgar/data/6201/0000006201-10-000013.txt\n",
      "True for  123  URL \n",
      "no of sentences 1\n",
      "length of super final 15\n",
      "rf_positive_score  0\n",
      "rf_negative_score  1\n",
      "rf_polarity_score  -0.9999990000010001\n",
      "rf_average_sentence_length  15.0\n",
      "rf_word_count 15\n",
      "rf_complex_word_count  8\n",
      "rf_percentage_of_complex_words,  0.5333333333333333\n",
      "rf_fog_index  6.213333333333334\n",
      "rf_uncertainty_score  0\n",
      "rf_constraining_score  0\n",
      "rf_positive_word_proportion  0.0\n",
      "rf_negative_word_proportion 0.06666666666666667\n",
      "rf_uncertainty_word_proportion  0.0\n",
      "rf_constraining_word_proportion 0.0\n",
      "\n",
      "https://www.sec.gov/Archives/edgar/data/6201/0000950123-10-066894.txt\n",
      "True for  124  URL \n",
      "no of sentences 2\n",
      "length of super final 16\n",
      "rf_positive_score  0\n",
      "rf_negative_score  1\n",
      "rf_polarity_score  -0.9999990000010001\n",
      "rf_average_sentence_length  8.0\n",
      "rf_word_count 16\n",
      "rf_complex_word_count  8\n",
      "rf_percentage_of_complex_words,  0.5\n",
      "rf_fog_index  3.4000000000000004\n",
      "rf_uncertainty_score  0\n",
      "rf_constraining_score  0\n",
      "rf_positive_word_proportion  0.0\n",
      "rf_negative_word_proportion 0.0625\n",
      "rf_uncertainty_word_proportion  0.0\n",
      "rf_constraining_word_proportion 0.0\n",
      "\n",
      "https://www.sec.gov/Archives/edgar/data/6201/0000950123-10-094605.txt\n",
      "True for  125  URL \n",
      "no of sentences 2\n",
      "length of super final 16\n",
      "rf_positive_score  0\n",
      "rf_negative_score  1\n",
      "rf_polarity_score  -0.9999990000010001\n",
      "rf_average_sentence_length  8.0\n",
      "rf_word_count 16\n",
      "rf_complex_word_count  7\n",
      "rf_percentage_of_complex_words,  0.4375\n",
      "rf_fog_index  3.375\n",
      "rf_uncertainty_score  0\n",
      "rf_constraining_score  0\n",
      "rf_positive_word_proportion  0.0\n",
      "rf_negative_word_proportion 0.0625\n",
      "rf_uncertainty_word_proportion  0.0\n",
      "rf_constraining_word_proportion 0.0\n",
      "\n",
      "https://www.sec.gov/Archives/edgar/data/6260/0000006260-94-000014.txt\n",
      "False for  126  URL \n",
      "https://www.sec.gov/Archives/edgar/data/6260/0000006260-94-000016.txt\n",
      "False for  127  URL \n",
      "https://www.sec.gov/Archives/edgar/data/6260/0000006260-97-000011.txt\n",
      "False for  128  URL \n",
      "https://www.sec.gov/Archives/edgar/data/6260/0000006260-98-000001.txt\n",
      "False for  129  URL \n",
      "https://www.sec.gov/Archives/edgar/data/6260/0000006260-98-000003.txt\n",
      "False for  130  URL \n",
      "https://www.sec.gov/Archives/edgar/data/6260/0000914121-98-000672.txt\n",
      "False for  131  URL \n",
      "https://www.sec.gov/Archives/edgar/data/6260/0001047469-98-045227.txt\n",
      "False for  132  URL \n",
      "https://www.sec.gov/Archives/edgar/data/6260/0000006260-99-000005.txt\n",
      "False for  133  URL \n",
      "https://www.sec.gov/Archives/edgar/data/6260/0000006260-99-000007.txt\n",
      "False for  134  URL \n",
      "https://www.sec.gov/Archives/edgar/data/6260/0000006260-99-000010.txt\n",
      "False for  135  URL \n",
      "https://www.sec.gov/Archives/edgar/data/11860/0000011860-98-000022.txt\n",
      "False for  136  URL \n",
      "https://www.sec.gov/Archives/edgar/data/11860/0001021408-99-000543.txt\n",
      "False for  137  URL \n",
      "https://www.sec.gov/Archives/edgar/data/11860/0000011860-99-000025.txt\n",
      "False for  138  URL \n",
      "https://www.sec.gov/Archives/edgar/data/11860/0000011860-99-000030.txt\n",
      "False for  139  URL \n",
      "https://www.sec.gov/Archives/edgar/data/11860/0000011860-99-000035.txt\n",
      "False for  140  URL \n",
      "https://www.sec.gov/Archives/edgar/data/11860/0000011860-99-000042.txt\n",
      "False for  141  URL \n",
      "https://www.sec.gov/Archives/edgar/data/11860/0000011860-00-000019.txt\n",
      "False for  142  URL \n",
      "https://www.sec.gov/Archives/edgar/data/11860/0000011860-00-000022.txt\n",
      "False for  143  URL \n",
      "https://www.sec.gov/Archives/edgar/data/11860/0000011860-00-000025.txt\n",
      "False for  144  URL \n",
      "https://www.sec.gov/Archives/edgar/data/11860/0000011860-00-000028.txt\n",
      "False for  145  URL \n",
      "https://www.sec.gov/Archives/edgar/data/11860/0000011860-00-000038.txt\n",
      "False for  146  URL \n",
      "https://www.sec.gov/Archives/edgar/data/12239/0001104659-07-024804.txt\n",
      "True for  147  URL \n",
      "https://www.sec.gov/Archives/edgar/data/12239/0001104659-07-040463.txt\n",
      "False for  148  URL \n",
      "https://www.sec.gov/Archives/edgar/data/12239/0001104659-07-041441.txt\n",
      "True for  149  URL \n",
      "https://www.sec.gov/Archives/edgar/data/12239/0001104659-07-042333.txt\n",
      "True for  150  URL \n",
      "https://www.sec.gov/Archives/edgar/data/12239/0001104659-07-062470.txt\n",
      "True for  151  URL \n"
     ]
    }
   ],
   "source": [
    "for i in range(0, len(df_rf)):   \n",
    "    driver = webdriver.Chrome()\n",
    "    secfname = df_rf.ix[i, 'SECFNAME']\n",
    "    \n",
    "    \n",
    "    driver.get(secfname)\n",
    "    \n",
    "    print(secfname)\n",
    "    sleep(1)\n",
    "    \n",
    "    page_source = driver.page_source\n",
    "    page_source = str(page_source)\n",
    "    \n",
    "    driver.close()\n",
    "    driver.quit()\n",
    "    \n",
    "    # cleaning the page_source:\n",
    "    \n",
    "    page_source = page_source.replace('\\n', ' ')\n",
    "    page_source = page_source.replace('\\t', ' ')\n",
    "    page_source = page_source.split()\n",
    "    page_source = ' '.join(page_source)\n",
    "    \n",
    "    # setting mark for <Page>\n",
    "\n",
    "    page_source = page_source.replace('&lt;PAGE&gt;', '<Page>')\n",
    "    page_source = page_source.replace('&lt;Page&gt;', '<Page>')\n",
    "    \n",
    "    \n",
    "    try:\n",
    "   \n",
    "        # finding the existence for - Quantitative and Qualitative Disclosures about Market Risk : \n",
    "        evidence_rf = re.findall(r\"Risk Factors\", page_source, re.IGNORECASE)\n",
    "\n",
    "        # exists or not\n",
    "        if len(evidence_rf) > 0:\n",
    "            present_rf = True\n",
    "\n",
    "        else:\n",
    "            present_rf = False\n",
    "\n",
    "        # whether 'rf' exists or not in the entire report:\n",
    "        print(present_rf,\"for \",i,\" URL \")\n",
    "\n",
    "        # if 'present_rf'==True, then extracting the 'rf' section via regex:\n",
    "\n",
    "        if present_rf == True:\n",
    "            # possible best regex options :\n",
    "           \n",
    "        \n",
    "            content_extract_rf_1 = re.findall(r\"discussed in the Risk Factors listed in(.{0,200})\", page_source, re.IGNORECASE)\n",
    "            content_extract_rf_2 = re.findall(r\"&#\\d{1,4};Risk Factors&#\\d{1,4}(.{0,200})\", page_source, re.IGNORECASE)\n",
    "            \n",
    "            \n",
    "            # setting up finally the extracted 'rf' section obtained:\n",
    "            final_content_extract_rf = ''\n",
    "\n",
    "            if (len(content_extract_rf_1) > 0) :\n",
    "                final_content_extract_rf = content_extract_rf_1\n",
    "            \n",
    "            if (len(content_extract_rf_2) > 0)  :\n",
    "                final_content_extract_rf = content_extract_rf_2\n",
    "            \n",
    "            \n",
    "            \n",
    "            # further setting up :\n",
    "\n",
    "            if (len(final_content_extract_rf[0]) > 1):\n",
    "                final_content_extract_rf = final_content_extract_rf[0].split()\n",
    "#               final_content_extract_rf = final_content_extract_rf[6:]\n",
    "                final_content_extract_rf = ' '.join(final_content_extract_rf)\n",
    "                final_content_extract_rf = str(final_content_extract_rf)\n",
    "\n",
    "                # calculating the no. of sentences before the removal of punctuation characters:\n",
    "                \n",
    "                no_of_sentences = calculate_no_of_sentences(final_content_extract_rf)\n",
    "                print(\"no of sentences\", no_of_sentences)\n",
    "                \n",
    "                # removing punctuations :\n",
    "                \n",
    "                final_content_extract_rf_punc = strip_punctuation(final_content_extract_rf)\n",
    "\n",
    "                \n",
    "                # removing all numeric digits :\n",
    "                \n",
    "                remove_numeric_rf = ''\n",
    "                for each_letter in  final_content_extract_rf_punc:\n",
    "                    if each_letter.isdigit()==False:\n",
    "                        remove_numeric_rf = remove_numeric_rf + each_letter\n",
    "                \n",
    "                \n",
    "                \n",
    "                # after removing all the numeric digits and framing properly once again:\n",
    "                super_final_content_extract_rf = ' '.join(remove_numeric_rf.split())\n",
    "\n",
    "                # CALLING THE TOKENIZING FUNCTION TO LOWERCASE WORDS AND REMOVE STOPWORDS:\n",
    "                super_final_content_extract_rf_list_with_stopwords_removed = nltk_tokenizing(super_final_content_extract_rf)\n",
    "                print(\"length of super final\", len(super_final_content_extract_rf_list_with_stopwords_removed))\n",
    "                \n",
    "                # calculating the rf_positive_score - fn :\n",
    "                rf_positive_score = rf_positive_score_fn(super_final_content_extract_rf_list_with_stopwords_removed, positive_words)\n",
    "                print(\"rf_positive_score \", rf_positive_score)\n",
    "                df_rf.ix[i, 'rf_positive_score'] = rf_positive_score\n",
    "                \n",
    "                # calculating the rf_negative_score - fn :\n",
    "                rf_negative_score = rf_negative_score_fn(super_final_content_extract_rf_list_with_stopwords_removed, negative_words)\n",
    "                print(\"rf_negative_score \", rf_negative_score)\n",
    "                df_rf.ix[i, 'rf_negative_score'] = rf_negative_score\n",
    "\n",
    "                # calculating the rf_polarity score - fn :\n",
    "                rf_polarity_score = rf_polarity_score_fn(super_final_content_extract_rf_list_with_stopwords_removed, rf_positive_score, rf_negative_score)\n",
    "                print(\"rf_polarity_score \", rf_polarity_score)\n",
    "                df_rf.ix[i, 'rf_polarity_score'] = rf_polarity_score\n",
    "\n",
    "                # calculating the rf_average sentence length - fn :\n",
    "                rf_average_sentence_length = rf_average_sentence_length_fn(no_of_sentences, super_final_content_extract_rf_list_with_stopwords_removed)\n",
    "                print(\"rf_average_sentence_length \", rf_average_sentence_length)\n",
    "                df_rf.ix[i, 'rf_average_sentence_length'] = rf_average_sentence_length\n",
    "\n",
    "                # calculating the rf_word_count :\n",
    "                rf_word_count = len(super_final_content_extract_rf_list_with_stopwords_removed)\n",
    "                print(\"rf_word_count\", rf_word_count)\n",
    "                df_rf.ix[i, 'rf_word_count'] = rf_word_count\n",
    "\n",
    "                # calculating the rf_complex_word_count - fn :\n",
    "                rf_complex_word_count = rf_complex_word_count_fn(super_final_content_extract_rf_list_with_stopwords_removed)\n",
    "                print(\"rf_complex_word_count \", rf_complex_word_count)\n",
    "                df_rf.ix[i, 'rf_complex_word_count'] = rf_complex_word_count\n",
    "\n",
    "                # calculating the rf_percentage_of_complex_words :\n",
    "                rf_percentage_of_complex_words = (rf_complex_word_count)/(rf_word_count)\n",
    "                print(\"rf_percentage_of_complex_words, \", rf_percentage_of_complex_words)\n",
    "                df_rf.ix[i, 'rf_percentage_of_complex_words'] = rf_percentage_of_complex_words\n",
    "\n",
    "                # calculating the rf_fog_index :\n",
    "                rf_fog_index = 0.4*(rf_average_sentence_length + rf_percentage_of_complex_words)\n",
    "                print(\"rf_fog_index \", rf_fog_index)\n",
    "                df_rf.ix[i, 'rf_fog_index'] = rf_fog_index\n",
    "\n",
    "                # calculating the rf_uncertainity_score - fn :\n",
    "                rf_uncertainty_score = rf_uncertainty_score_fn(super_final_content_extract_rf_list_with_stopwords_removed)\n",
    "                print(\"rf_uncertainty_score \", rf_uncertainty_score)\n",
    "                df_rf.ix[i, 'rf_uncertainty_score'] = rf_uncertainty_score\n",
    "\n",
    "                # calculating the rf_constraining_score - fn :\n",
    "                rf_constraining_score = rf_constraining_score_fn(super_final_content_extract_rf_list_with_stopwords_removed)\n",
    "                print(\"rf_constraining_score \", rf_constraining_score)\n",
    "                df_rf.ix[i, 'rf_constraining_score'] = rf_constraining_score\n",
    "\n",
    "                # calculating the rf_positive_word_proportion :\n",
    "                rf_positive_word_proportion = (rf_positive_score)/(rf_word_count)\n",
    "                print(\"rf_positive_word_proportion \", rf_positive_word_proportion)\n",
    "                df_rf.ix[i, 'rf_positive_word_proportion'] = rf_positive_word_proportion\n",
    "\n",
    "                # calculating the rf_negative_word_proportion :\n",
    "                rf_negative_word_proportion = (rf_negative_score)/(rf_word_count)\n",
    "                print(\"rf_negative_word_proportion\", rf_negative_word_proportion)\n",
    "                df_rf.ix[i, 'rf_negative_word_proportion'] = rf_negative_word_proportion\n",
    "\n",
    "                # calculating the rf_uncertainty_word_proportion : \n",
    "                rf_uncertainty_word_proportion = (rf_uncertainty_score)/(rf_word_count)\n",
    "                print(\"rf_uncertainty_word_proportion \", rf_uncertainty_word_proportion)\n",
    "                df_rf.ix[i, 'rf_uncertainty_word_proportion'] = rf_uncertainty_word_proportion\n",
    "\n",
    "                # calculating the rf_constraining_word_proportion :\n",
    "                rf_constraining_word_proportion = (rf_constraining_score)/(rf_word_count)\n",
    "                print(\"rf_constraining_word_proportion\", rf_constraining_word_proportion)\n",
    "                print()\n",
    "                df_rf.ix[i, 'rf_constraining_word_proportion'] = rf_constraining_word_proportion\n",
    "            \n",
    "            else:\n",
    "                continue\n",
    "\n",
    "        elif present_rf == False:\n",
    "            continue\n",
    "            \n",
    "    except:\n",
    "        continue\n",
    "    \n",
    "    "
   ]
  },
  {
   "cell_type": "markdown",
   "metadata": {},
   "source": [
    "## OUTPUT CSV - for RF only :"
   ]
  },
  {
   "cell_type": "code",
   "execution_count": 32,
   "metadata": {
    "collapsed": true
   },
   "outputs": [],
   "source": [
    "df_rf.to_csv(r'final_result_for_mda_and_qqdmr_and_rf.csv', index=False)"
   ]
  },
  {
   "cell_type": "markdown",
   "metadata": {},
   "source": [
    "## Visualizing the null/empty parts of the final dataFrame containing 'mda', 'qqdmr' and 'rf' :"
   ]
  },
  {
   "cell_type": "code",
   "execution_count": 33,
   "metadata": {},
   "outputs": [
    {
     "data": {
      "text/plain": [
       "<matplotlib.axes._subplots.AxesSubplot at 0x67e75eaeb8>"
      ]
     },
     "execution_count": 33,
     "metadata": {},
     "output_type": "execute_result"
    },
    {
     "data": {
      "image/png": "[encoded data removed]",
      "text/plain": [
       "<matplotlib.figure.Figure at 0x67e75ea2b0>"
      ]
     },
     "metadata": {},
     "output_type": "display_data"
    }
   ],
   "source": [
    "plt.figure(figsize=(20, 7))\n",
    "sns.heatmap(df_rf.isnull(), cmap='viridis') "
   ]
  },
  {
   "cell_type": "code",
   "execution_count": null,
   "metadata": {
    "collapsed": true
   },
   "outputs": [],
   "source": []
  },
  {
   "cell_type": "code",
   "execution_count": null,
   "metadata": {
    "collapsed": true
   },
   "outputs": [],
   "source": []
  },
  {
   "cell_type": "code",
   "execution_count": null,
   "metadata": {
    "collapsed": true
   },
   "outputs": [],
   "source": [
    "\n"
   ]
  }
 ],
 "metadata": {
  "kernelspec": {
   "display_name": "Python 3",
   "language": "python",
   "name": "python3"
  },
  "language_info": {
   "codemirror_mode": {
    "name": "ipython",
    "version": 3
   },
   "file_extension": ".py",
   "mimetype": "text/x-python",
   "name": "python",
   "nbconvert_exporter": "python",
   "pygments_lexer": "ipython3",
   "version": "3.7.1"
  }
 },
 "nbformat": 4,
 "nbformat_minor": 2
}
